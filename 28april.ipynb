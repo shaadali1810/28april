{
 "cells": [
  {
   "cell_type": "code",
   "execution_count": 1,
   "id": "8653a9a3-1aae-4dca-b498-5b6729f5eb87",
   "metadata": {},
   "outputs": [],
   "source": [
    "#1 Hierarchical clustering is an unsupervised learning technique used to group similar objects into clusters. It creates a hierarchy of clusters by merging or splitting them based on similarity measures. Hierarchical clustering groups similar objects into a dendrogram."
   ]
  },
  {
   "cell_type": "code",
   "execution_count": 2,
   "id": "bc481daa-8274-4167-8f88-f10cca5e2682",
   "metadata": {},
   "outputs": [],
   "source": [
    "#2 Agglomerative: This is a \"bottom-up\" approach: Each observation starts in its own cluster, and pairs of clusters are merged as one moves up the hierarchy. Divisive: This is a \"top-down\" approach: All observations start in one cluster, and splits are performed recursively as one moves down the hierarchy."
   ]
  },
  {
   "cell_type": "code",
   "execution_count": 3,
   "id": "5c3680d9-6c60-41c0-b90a-d56b872c3258",
   "metadata": {},
   "outputs": [],
   "source": [
    "#3 For most common hierarchical clustering software, the default distance measure is the Euclidean distance. This is the square root of the sum of the square differences. However, for gene expression, correlation distance is often used. The distance between two vectors is 0 when they are perfectly correlated."
   ]
  },
  {
   "cell_type": "code",
   "execution_count": 4,
   "id": "3df2a07b-70ea-470d-8de1-f8024deb7de2",
   "metadata": {},
   "outputs": [],
   "source": [
    "#4 To get the optimal number of clusters for hierarchical clustering, we make use a dendrogram which is tree-like chart that shows the sequences of merges or splits of clusters. If two clusters are merged, the dendrogram will join them in a graph and the height of the join will be the distance between those clusters."
   ]
  },
  {
   "cell_type": "code",
   "execution_count": 5,
   "id": "f5253d19-2cda-44d6-8663-c049626b2145",
   "metadata": {},
   "outputs": [],
   "source": [
    "#5 A dendrogram is a diagram that shows the hierarchical relationship between objects. It is most commonly created as an output from hierarchical clustering. The main use of a dendrogram is to work out the best way to allocate objects to clusters."
   ]
  },
  {
   "cell_type": "code",
   "execution_count": null,
   "id": "431528bb-5b53-48cb-a514-4b52d4d5982c",
   "metadata": {},
   "outputs": [],
   "source": [
    "#6 k-Prototype is an extension of the k-Modes algorithm that works for mixed categorical and numerical features."
   ]
  },
  {
   "cell_type": "code",
   "execution_count": null,
   "id": "659e38e3-b7be-4a05-a620-72666dad804e",
   "metadata": {},
   "outputs": [],
   "source": [
    "#7 One way to use clustering to detect outliers is to measure the distance or similarity between each data point and its assigned cluster. Data points that are far away from their cluster center, or have a low similarity score, can be considered as potential outliers, as they do not fit well into any cluster."
   ]
  }
 ],
 "metadata": {
  "kernelspec": {
   "display_name": "Python 3 (ipykernel)",
   "language": "python",
   "name": "python3"
  },
  "language_info": {
   "codemirror_mode": {
    "name": "ipython",
    "version": 3
   },
   "file_extension": ".py",
   "mimetype": "text/x-python",
   "name": "python",
   "nbconvert_exporter": "python",
   "pygments_lexer": "ipython3",
   "version": "3.10.8"
  }
 },
 "nbformat": 4,
 "nbformat_minor": 5
}
